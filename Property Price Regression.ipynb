{
 "cells": [
  {
   "cell_type": "markdown",
   "metadata": {},
   "source": [
    "<h1> Analisis Prediksi Harga Rumah JABODETABEK Berdasarkan Spesifikasi Menggunakan Linear Regression <h1>"
   ]
  },
  {
   "cell_type": "markdown",
   "metadata": {},
   "source": [
    "## Import Semua Packages/Library yang Digunakan"
   ]
  },
  {
   "cell_type": "code",
   "execution_count": 21,
   "metadata": {},
   "outputs": [],
   "source": [
    "from scipy.stats import zscore\n",
    "import joblib\n",
    "import numpy as np\n",
    "import pandas as pd\n",
    "import seaborn as sns\n",
    "from sklearn.model_selection import train_test_split\n",
    "from sklearn.preprocessing import StandardScaler\n",
    "from sklearn.linear_model import LinearRegression\n",
    "import matplotlib.pyplot as plt\n",
    "from sklearn.metrics import mean_squared_error, r2_score, mean_absolute_error"
   ]
  },
  {
   "cell_type": "markdown",
   "metadata": {},
   "source": [
    "## Data Wrangling"
   ]
  },
  {
   "cell_type": "code",
   "execution_count": 22,
   "metadata": {},
   "outputs": [
    {
     "data": {
      "text/html": [
       "<div>\n",
       "<style scoped>\n",
       "    .dataframe tbody tr th:only-of-type {\n",
       "        vertical-align: middle;\n",
       "    }\n",
       "\n",
       "    .dataframe tbody tr th {\n",
       "        vertical-align: top;\n",
       "    }\n",
       "\n",
       "    .dataframe thead th {\n",
       "        text-align: right;\n",
       "    }\n",
       "</style>\n",
       "<table border=\"1\" class=\"dataframe\">\n",
       "  <thead>\n",
       "    <tr style=\"text-align: right;\">\n",
       "      <th></th>\n",
       "      <th>url</th>\n",
       "      <th>price_in_rp</th>\n",
       "      <th>title</th>\n",
       "      <th>address</th>\n",
       "      <th>district</th>\n",
       "      <th>city</th>\n",
       "      <th>lat</th>\n",
       "      <th>long</th>\n",
       "      <th>facilities</th>\n",
       "      <th>property_type</th>\n",
       "      <th>...</th>\n",
       "      <th>electricity</th>\n",
       "      <th>maid_bedrooms</th>\n",
       "      <th>maid_bathrooms</th>\n",
       "      <th>floors</th>\n",
       "      <th>building_age</th>\n",
       "      <th>year_built</th>\n",
       "      <th>property_condition</th>\n",
       "      <th>building_orientation</th>\n",
       "      <th>garages</th>\n",
       "      <th>furnishing</th>\n",
       "    </tr>\n",
       "  </thead>\n",
       "  <tbody>\n",
       "    <tr>\n",
       "      <th>0</th>\n",
       "      <td>https://www.rumah123.com/properti/bekasi/hos11...</td>\n",
       "      <td>2.990000e+09</td>\n",
       "      <td>Rumah cantik Sumarecon Bekasi\\nLingkungan asri...</td>\n",
       "      <td>Summarecon Bekasi, Bekasi</td>\n",
       "      <td>Summarecon Bekasi</td>\n",
       "      <td>Bekasi</td>\n",
       "      <td>-6.223945</td>\n",
       "      <td>106.986275</td>\n",
       "      <td>Tempat Jemuran, Jalur Telepon, Taman,  Taman</td>\n",
       "      <td>rumah</td>\n",
       "      <td>...</td>\n",
       "      <td>4400 mah</td>\n",
       "      <td>0.0</td>\n",
       "      <td>1.0</td>\n",
       "      <td>2.0</td>\n",
       "      <td>5.0</td>\n",
       "      <td>2017.0</td>\n",
       "      <td>bagus</td>\n",
       "      <td>NaN</td>\n",
       "      <td>0.0</td>\n",
       "      <td>unfurnished</td>\n",
       "    </tr>\n",
       "    <tr>\n",
       "      <th>1</th>\n",
       "      <td>https://www.rumah123.com/properti/bekasi/hos10...</td>\n",
       "      <td>1.270000e+09</td>\n",
       "      <td>Rumah Kekinian, Magenta Summarecon Bekasi</td>\n",
       "      <td>Summarecon Bekasi, Bekasi</td>\n",
       "      <td>Summarecon Bekasi</td>\n",
       "      <td>Bekasi</td>\n",
       "      <td>-6.223945</td>\n",
       "      <td>106.986275</td>\n",
       "      <td>Taman</td>\n",
       "      <td>rumah</td>\n",
       "      <td>...</td>\n",
       "      <td>2200 mah</td>\n",
       "      <td>0.0</td>\n",
       "      <td>0.0</td>\n",
       "      <td>2.0</td>\n",
       "      <td>NaN</td>\n",
       "      <td>NaN</td>\n",
       "      <td>bagus</td>\n",
       "      <td>NaN</td>\n",
       "      <td>0.0</td>\n",
       "      <td>NaN</td>\n",
       "    </tr>\n",
       "    <tr>\n",
       "      <th>2</th>\n",
       "      <td>https://www.rumah123.com/properti/bekasi/hos10...</td>\n",
       "      <td>1.950000e+09</td>\n",
       "      <td>Rumah Cantik 2 Lantai Cluster Bluebell Summare...</td>\n",
       "      <td>Summarecon Bekasi, Bekasi</td>\n",
       "      <td>Summarecon Bekasi</td>\n",
       "      <td>Bekasi</td>\n",
       "      <td>-6.223945</td>\n",
       "      <td>106.986275</td>\n",
       "      <td>Jogging Track,  Kolam Renang, Masjid,  Taman,...</td>\n",
       "      <td>rumah</td>\n",
       "      <td>...</td>\n",
       "      <td>2200 mah</td>\n",
       "      <td>1.0</td>\n",
       "      <td>1.0</td>\n",
       "      <td>2.0</td>\n",
       "      <td>NaN</td>\n",
       "      <td>NaN</td>\n",
       "      <td>bagus</td>\n",
       "      <td>NaN</td>\n",
       "      <td>1.0</td>\n",
       "      <td>unfurnished</td>\n",
       "    </tr>\n",
       "    <tr>\n",
       "      <th>3</th>\n",
       "      <td>https://www.rumah123.com/properti/bekasi/hos10...</td>\n",
       "      <td>3.300000e+09</td>\n",
       "      <td>Rumah Mewah 2Lantai L10x18 C di Cluster VERNON...</td>\n",
       "      <td>Summarecon Bekasi, Bekasi</td>\n",
       "      <td>Summarecon Bekasi</td>\n",
       "      <td>Bekasi</td>\n",
       "      <td>-6.223945</td>\n",
       "      <td>106.986275</td>\n",
       "      <td>Jalur Telepon,  Jogging Track, Track Lari,  K...</td>\n",
       "      <td>rumah</td>\n",
       "      <td>...</td>\n",
       "      <td>3500 mah</td>\n",
       "      <td>1.0</td>\n",
       "      <td>1.0</td>\n",
       "      <td>2.0</td>\n",
       "      <td>6.0</td>\n",
       "      <td>2016.0</td>\n",
       "      <td>bagus sekali</td>\n",
       "      <td>utara</td>\n",
       "      <td>2.0</td>\n",
       "      <td>unfurnished</td>\n",
       "    </tr>\n",
       "    <tr>\n",
       "      <th>4</th>\n",
       "      <td>https://www.rumah123.com/properti/bekasi/hos10...</td>\n",
       "      <td>4.500000e+09</td>\n",
       "      <td>Rumah Hoek di Cluster Maple Summarecon Bekasi,...</td>\n",
       "      <td>Summarecon Bekasi, Bekasi</td>\n",
       "      <td>Summarecon Bekasi</td>\n",
       "      <td>Bekasi</td>\n",
       "      <td>-6.223945</td>\n",
       "      <td>106.986275</td>\n",
       "      <td>Jogging Track,  Kolam Renang, Taman, Jalur Te...</td>\n",
       "      <td>rumah</td>\n",
       "      <td>...</td>\n",
       "      <td>3500 mah</td>\n",
       "      <td>1.0</td>\n",
       "      <td>1.0</td>\n",
       "      <td>2.0</td>\n",
       "      <td>9.0</td>\n",
       "      <td>2013.0</td>\n",
       "      <td>bagus</td>\n",
       "      <td>utara</td>\n",
       "      <td>1.0</td>\n",
       "      <td>unfurnished</td>\n",
       "    </tr>\n",
       "  </tbody>\n",
       "</table>\n",
       "<p>5 rows × 27 columns</p>\n",
       "</div>"
      ],
      "text/plain": [
       "                                                 url   price_in_rp  \\\n",
       "0  https://www.rumah123.com/properti/bekasi/hos11...  2.990000e+09   \n",
       "1  https://www.rumah123.com/properti/bekasi/hos10...  1.270000e+09   \n",
       "2  https://www.rumah123.com/properti/bekasi/hos10...  1.950000e+09   \n",
       "3  https://www.rumah123.com/properti/bekasi/hos10...  3.300000e+09   \n",
       "4  https://www.rumah123.com/properti/bekasi/hos10...  4.500000e+09   \n",
       "\n",
       "                                               title  \\\n",
       "0  Rumah cantik Sumarecon Bekasi\\nLingkungan asri...   \n",
       "1          Rumah Kekinian, Magenta Summarecon Bekasi   \n",
       "2  Rumah Cantik 2 Lantai Cluster Bluebell Summare...   \n",
       "3  Rumah Mewah 2Lantai L10x18 C di Cluster VERNON...   \n",
       "4  Rumah Hoek di Cluster Maple Summarecon Bekasi,...   \n",
       "\n",
       "                     address           district     city       lat  \\\n",
       "0  Summarecon Bekasi, Bekasi  Summarecon Bekasi   Bekasi -6.223945   \n",
       "1  Summarecon Bekasi, Bekasi  Summarecon Bekasi   Bekasi -6.223945   \n",
       "2  Summarecon Bekasi, Bekasi  Summarecon Bekasi   Bekasi -6.223945   \n",
       "3  Summarecon Bekasi, Bekasi  Summarecon Bekasi   Bekasi -6.223945   \n",
       "4  Summarecon Bekasi, Bekasi  Summarecon Bekasi   Bekasi -6.223945   \n",
       "\n",
       "         long                                         facilities  \\\n",
       "0  106.986275       Tempat Jemuran, Jalur Telepon, Taman,  Taman   \n",
       "1  106.986275                                              Taman   \n",
       "2  106.986275   Jogging Track,  Kolam Renang, Masjid,  Taman,...   \n",
       "3  106.986275   Jalur Telepon,  Jogging Track, Track Lari,  K...   \n",
       "4  106.986275   Jogging Track,  Kolam Renang, Taman, Jalur Te...   \n",
       "\n",
       "  property_type  ... electricity  maid_bedrooms  maid_bathrooms  floors  \\\n",
       "0         rumah  ...    4400 mah            0.0             1.0     2.0   \n",
       "1         rumah  ...    2200 mah            0.0             0.0     2.0   \n",
       "2         rumah  ...    2200 mah            1.0             1.0     2.0   \n",
       "3         rumah  ...    3500 mah            1.0             1.0     2.0   \n",
       "4         rumah  ...    3500 mah            1.0             1.0     2.0   \n",
       "\n",
       "   building_age  year_built property_condition building_orientation  garages  \\\n",
       "0           5.0      2017.0              bagus                  NaN      0.0   \n",
       "1           NaN         NaN              bagus                  NaN      0.0   \n",
       "2           NaN         NaN              bagus                  NaN      1.0   \n",
       "3           6.0      2016.0       bagus sekali                utara      2.0   \n",
       "4           9.0      2013.0              bagus                utara      1.0   \n",
       "\n",
       "    furnishing  \n",
       "0  unfurnished  \n",
       "1          NaN  \n",
       "2  unfurnished  \n",
       "3  unfurnished  \n",
       "4  unfurnished  \n",
       "\n",
       "[5 rows x 27 columns]"
      ]
     },
     "execution_count": 22,
     "metadata": {},
     "output_type": "execute_result"
    }
   ],
   "source": [
    "df = pd.read_csv(\"jabodetabek_house_price.csv\")\n",
    "df.head(5)"
   ]
  },
  {
   "cell_type": "code",
   "execution_count": 23,
   "metadata": {},
   "outputs": [
    {
     "name": "stdout",
     "output_type": "stream",
     "text": [
      "<class 'pandas.core.frame.DataFrame'>\n",
      "RangeIndex: 3553 entries, 0 to 3552\n",
      "Data columns (total 27 columns):\n",
      " #   Column                Non-Null Count  Dtype  \n",
      "---  ------                --------------  -----  \n",
      " 0   url                   3553 non-null   object \n",
      " 1   price_in_rp           3553 non-null   float64\n",
      " 2   title                 3553 non-null   object \n",
      " 3   address               3553 non-null   object \n",
      " 4   district              3553 non-null   object \n",
      " 5   city                  3553 non-null   object \n",
      " 6   lat                   3553 non-null   float64\n",
      " 7   long                  3553 non-null   float64\n",
      " 8   facilities            3553 non-null   object \n",
      " 9   property_type         3552 non-null   object \n",
      " 10  ads_id                3549 non-null   object \n",
      " 11  bedrooms              3519 non-null   float64\n",
      " 12  bathrooms             3524 non-null   float64\n",
      " 13  land_size_m2          3551 non-null   float64\n",
      " 14  building_size_m2      3551 non-null   float64\n",
      " 15  carports              3553 non-null   float64\n",
      " 16  certificate           3412 non-null   object \n",
      " 17  electricity           3553 non-null   object \n",
      " 18  maid_bedrooms         3553 non-null   float64\n",
      " 19  maid_bathrooms        3553 non-null   float64\n",
      " 20  floors                3547 non-null   float64\n",
      " 21  building_age          2108 non-null   float64\n",
      " 22  year_built            2108 non-null   float64\n",
      " 23  property_condition    3307 non-null   object \n",
      " 24  building_orientation  1906 non-null   object \n",
      " 25  garages               3553 non-null   float64\n",
      " 26  furnishing            3166 non-null   object \n",
      "dtypes: float64(14), object(13)\n",
      "memory usage: 749.6+ KB\n"
     ]
    }
   ],
   "source": [
    "df.info()"
   ]
  },
  {
   "cell_type": "code",
   "execution_count": 24,
   "metadata": {},
   "outputs": [
    {
     "data": {
      "text/html": [
       "<div>\n",
       "<style scoped>\n",
       "    .dataframe tbody tr th:only-of-type {\n",
       "        vertical-align: middle;\n",
       "    }\n",
       "\n",
       "    .dataframe tbody tr th {\n",
       "        vertical-align: top;\n",
       "    }\n",
       "\n",
       "    .dataframe thead th {\n",
       "        text-align: right;\n",
       "    }\n",
       "</style>\n",
       "<table border=\"1\" class=\"dataframe\">\n",
       "  <thead>\n",
       "    <tr style=\"text-align: right;\">\n",
       "      <th></th>\n",
       "      <th>price_in_rp</th>\n",
       "      <th>lat</th>\n",
       "      <th>long</th>\n",
       "      <th>bedrooms</th>\n",
       "      <th>bathrooms</th>\n",
       "      <th>land_size_m2</th>\n",
       "      <th>building_size_m2</th>\n",
       "      <th>carports</th>\n",
       "      <th>maid_bedrooms</th>\n",
       "      <th>maid_bathrooms</th>\n",
       "      <th>floors</th>\n",
       "      <th>building_age</th>\n",
       "      <th>year_built</th>\n",
       "      <th>garages</th>\n",
       "    </tr>\n",
       "  </thead>\n",
       "  <tbody>\n",
       "    <tr>\n",
       "      <th>count</th>\n",
       "      <td>3.553000e+03</td>\n",
       "      <td>3553.000000</td>\n",
       "      <td>3553.000000</td>\n",
       "      <td>3519.000000</td>\n",
       "      <td>3524.000000</td>\n",
       "      <td>3551.000000</td>\n",
       "      <td>3551.000000</td>\n",
       "      <td>3553.000000</td>\n",
       "      <td>3553.000000</td>\n",
       "      <td>3553.000000</td>\n",
       "      <td>3547.000000</td>\n",
       "      <td>2108.000000</td>\n",
       "      <td>2108.000000</td>\n",
       "      <td>3553.000000</td>\n",
       "    </tr>\n",
       "    <tr>\n",
       "      <th>mean</th>\n",
       "      <td>4.191685e+09</td>\n",
       "      <td>-6.324721</td>\n",
       "      <td>106.792881</td>\n",
       "      <td>3.326513</td>\n",
       "      <td>2.624858</td>\n",
       "      <td>204.806815</td>\n",
       "      <td>186.587440</td>\n",
       "      <td>1.197861</td>\n",
       "      <td>0.496482</td>\n",
       "      <td>0.370391</td>\n",
       "      <td>1.764590</td>\n",
       "      <td>3.880930</td>\n",
       "      <td>2018.137097</td>\n",
       "      <td>0.708978</td>\n",
       "    </tr>\n",
       "    <tr>\n",
       "      <th>std</th>\n",
       "      <td>1.375067e+10</td>\n",
       "      <td>0.129245</td>\n",
       "      <td>0.172159</td>\n",
       "      <td>2.672148</td>\n",
       "      <td>2.696497</td>\n",
       "      <td>402.127746</td>\n",
       "      <td>248.443471</td>\n",
       "      <td>1.114996</td>\n",
       "      <td>0.685723</td>\n",
       "      <td>0.536024</td>\n",
       "      <td>0.637349</td>\n",
       "      <td>7.603708</td>\n",
       "      <td>7.641448</td>\n",
       "      <td>1.311879</td>\n",
       "    </tr>\n",
       "    <tr>\n",
       "      <th>min</th>\n",
       "      <td>4.200000e+07</td>\n",
       "      <td>-6.894828</td>\n",
       "      <td>106.402315</td>\n",
       "      <td>1.000000</td>\n",
       "      <td>1.000000</td>\n",
       "      <td>12.000000</td>\n",
       "      <td>1.000000</td>\n",
       "      <td>0.000000</td>\n",
       "      <td>0.000000</td>\n",
       "      <td>0.000000</td>\n",
       "      <td>1.000000</td>\n",
       "      <td>0.000000</td>\n",
       "      <td>1870.000000</td>\n",
       "      <td>0.000000</td>\n",
       "    </tr>\n",
       "    <tr>\n",
       "      <th>25%</th>\n",
       "      <td>8.000000e+08</td>\n",
       "      <td>-6.397933</td>\n",
       "      <td>106.687295</td>\n",
       "      <td>2.000000</td>\n",
       "      <td>2.000000</td>\n",
       "      <td>75.000000</td>\n",
       "      <td>65.500000</td>\n",
       "      <td>1.000000</td>\n",
       "      <td>0.000000</td>\n",
       "      <td>0.000000</td>\n",
       "      <td>1.000000</td>\n",
       "      <td>0.000000</td>\n",
       "      <td>2016.000000</td>\n",
       "      <td>0.000000</td>\n",
       "    </tr>\n",
       "    <tr>\n",
       "      <th>50%</th>\n",
       "      <td>1.500000e+09</td>\n",
       "      <td>-6.300733</td>\n",
       "      <td>106.799954</td>\n",
       "      <td>3.000000</td>\n",
       "      <td>2.000000</td>\n",
       "      <td>108.000000</td>\n",
       "      <td>112.000000</td>\n",
       "      <td>1.000000</td>\n",
       "      <td>0.000000</td>\n",
       "      <td>0.000000</td>\n",
       "      <td>2.000000</td>\n",
       "      <td>1.000000</td>\n",
       "      <td>2021.000000</td>\n",
       "      <td>0.000000</td>\n",
       "    </tr>\n",
       "    <tr>\n",
       "      <th>75%</th>\n",
       "      <td>3.590000e+09</td>\n",
       "      <td>-6.231754</td>\n",
       "      <td>106.874766</td>\n",
       "      <td>4.000000</td>\n",
       "      <td>3.000000</td>\n",
       "      <td>192.000000</td>\n",
       "      <td>208.000000</td>\n",
       "      <td>2.000000</td>\n",
       "      <td>1.000000</td>\n",
       "      <td>1.000000</td>\n",
       "      <td>2.000000</td>\n",
       "      <td>6.000000</td>\n",
       "      <td>2022.000000</td>\n",
       "      <td>1.000000</td>\n",
       "    </tr>\n",
       "    <tr>\n",
       "      <th>max</th>\n",
       "      <td>5.800000e+11</td>\n",
       "      <td>-6.102478</td>\n",
       "      <td>109.771691</td>\n",
       "      <td>99.000000</td>\n",
       "      <td>99.000000</td>\n",
       "      <td>8000.000000</td>\n",
       "      <td>6000.000000</td>\n",
       "      <td>15.000000</td>\n",
       "      <td>7.000000</td>\n",
       "      <td>5.000000</td>\n",
       "      <td>5.000000</td>\n",
       "      <td>152.000000</td>\n",
       "      <td>2052.000000</td>\n",
       "      <td>50.000000</td>\n",
       "    </tr>\n",
       "  </tbody>\n",
       "</table>\n",
       "</div>"
      ],
      "text/plain": [
       "        price_in_rp          lat         long     bedrooms    bathrooms  \\\n",
       "count  3.553000e+03  3553.000000  3553.000000  3519.000000  3524.000000   \n",
       "mean   4.191685e+09    -6.324721   106.792881     3.326513     2.624858   \n",
       "std    1.375067e+10     0.129245     0.172159     2.672148     2.696497   \n",
       "min    4.200000e+07    -6.894828   106.402315     1.000000     1.000000   \n",
       "25%    8.000000e+08    -6.397933   106.687295     2.000000     2.000000   \n",
       "50%    1.500000e+09    -6.300733   106.799954     3.000000     2.000000   \n",
       "75%    3.590000e+09    -6.231754   106.874766     4.000000     3.000000   \n",
       "max    5.800000e+11    -6.102478   109.771691    99.000000    99.000000   \n",
       "\n",
       "       land_size_m2  building_size_m2     carports  maid_bedrooms  \\\n",
       "count   3551.000000       3551.000000  3553.000000    3553.000000   \n",
       "mean     204.806815        186.587440     1.197861       0.496482   \n",
       "std      402.127746        248.443471     1.114996       0.685723   \n",
       "min       12.000000          1.000000     0.000000       0.000000   \n",
       "25%       75.000000         65.500000     1.000000       0.000000   \n",
       "50%      108.000000        112.000000     1.000000       0.000000   \n",
       "75%      192.000000        208.000000     2.000000       1.000000   \n",
       "max     8000.000000       6000.000000    15.000000       7.000000   \n",
       "\n",
       "       maid_bathrooms       floors  building_age   year_built      garages  \n",
       "count     3553.000000  3547.000000   2108.000000  2108.000000  3553.000000  \n",
       "mean         0.370391     1.764590      3.880930  2018.137097     0.708978  \n",
       "std          0.536024     0.637349      7.603708     7.641448     1.311879  \n",
       "min          0.000000     1.000000      0.000000  1870.000000     0.000000  \n",
       "25%          0.000000     1.000000      0.000000  2016.000000     0.000000  \n",
       "50%          0.000000     2.000000      1.000000  2021.000000     0.000000  \n",
       "75%          1.000000     2.000000      6.000000  2022.000000     1.000000  \n",
       "max          5.000000     5.000000    152.000000  2052.000000    50.000000  "
      ]
     },
     "execution_count": 24,
     "metadata": {},
     "output_type": "execute_result"
    }
   ],
   "source": [
    "df.describe()"
   ]
  },
  {
   "cell_type": "markdown",
   "metadata": {},
   "source": [
    "# *Data Preprocessing*"
   ]
  },
  {
   "cell_type": "code",
   "execution_count": 25,
   "metadata": {},
   "outputs": [
    {
     "data": {
      "text/html": [
       "<div>\n",
       "<style scoped>\n",
       "    .dataframe tbody tr th:only-of-type {\n",
       "        vertical-align: middle;\n",
       "    }\n",
       "\n",
       "    .dataframe tbody tr th {\n",
       "        vertical-align: top;\n",
       "    }\n",
       "\n",
       "    .dataframe thead th {\n",
       "        text-align: right;\n",
       "    }\n",
       "</style>\n",
       "<table border=\"1\" class=\"dataframe\">\n",
       "  <thead>\n",
       "    <tr style=\"text-align: right;\">\n",
       "      <th></th>\n",
       "      <th>city</th>\n",
       "      <th>jumlah</th>\n",
       "    </tr>\n",
       "  </thead>\n",
       "  <tbody>\n",
       "    <tr>\n",
       "      <th>0</th>\n",
       "      <td>Bogor</td>\n",
       "      <td>881</td>\n",
       "    </tr>\n",
       "    <tr>\n",
       "      <th>1</th>\n",
       "      <td>Tangerang</td>\n",
       "      <td>851</td>\n",
       "    </tr>\n",
       "    <tr>\n",
       "      <th>2</th>\n",
       "      <td>Bekasi</td>\n",
       "      <td>586</td>\n",
       "    </tr>\n",
       "    <tr>\n",
       "      <th>3</th>\n",
       "      <td>Depok</td>\n",
       "      <td>526</td>\n",
       "    </tr>\n",
       "    <tr>\n",
       "      <th>4</th>\n",
       "      <td>Jakarta Selatan</td>\n",
       "      <td>240</td>\n",
       "    </tr>\n",
       "  </tbody>\n",
       "</table>\n",
       "</div>"
      ],
      "text/plain": [
       "               city  jumlah\n",
       "0             Bogor     881\n",
       "1         Tangerang     851\n",
       "2            Bekasi     586\n",
       "3             Depok     526\n",
       "4   Jakarta Selatan     240"
      ]
     },
     "execution_count": 25,
     "metadata": {},
     "output_type": "execute_result"
    }
   ],
   "source": [
    "city = df.groupby(by='city').agg({\n",
    "    'city': 'count',\n",
    "}).rename(columns={\"city\":\"jumlah\"}).sort_values(by='jumlah',ascending= False)\n",
    "city.reset_index(inplace=True)\n",
    "\n",
    "city.head(5)"
   ]
  },
  {
   "cell_type": "code",
   "execution_count": 26,
   "metadata": {},
   "outputs": [
    {
     "name": "stdout",
     "output_type": "stream",
     "text": [
      "<class 'pandas.core.frame.DataFrame'>\n",
      "RangeIndex: 3553 entries, 0 to 3552\n",
      "Data columns (total 15 columns):\n",
      " #   Column            Non-Null Count  Dtype  \n",
      "---  ------            --------------  -----  \n",
      " 0   price_in_rp       3553 non-null   float64\n",
      " 1   city              3553 non-null   object \n",
      " 2   lat               3553 non-null   float64\n",
      " 3   long              3553 non-null   float64\n",
      " 4   bedrooms          3519 non-null   float64\n",
      " 5   bathrooms         3524 non-null   float64\n",
      " 6   land_size_m2      3551 non-null   float64\n",
      " 7   building_size_m2  3551 non-null   float64\n",
      " 8   carports          3553 non-null   float64\n",
      " 9   maid_bedrooms     3553 non-null   float64\n",
      " 10  maid_bathrooms    3553 non-null   float64\n",
      " 11  floors            3547 non-null   float64\n",
      " 12  building_age      2108 non-null   float64\n",
      " 13  year_built        2108 non-null   float64\n",
      " 14  garages           3553 non-null   float64\n",
      "dtypes: float64(14), object(1)\n",
      "memory usage: 416.5+ KB\n"
     ]
    }
   ],
   "source": [
    "keep_feature = \"city\"\n",
    "\n",
    "columns_to_drop = [col for col in df.select_dtypes(include='object').columns if col != keep_feature]\n",
    "df_selected = df.drop(columns=columns_to_drop)\n",
    "df_selected.info()"
   ]
  },
  {
   "cell_type": "code",
   "execution_count": 27,
   "metadata": {},
   "outputs": [
    {
     "data": {
      "text/plain": [
       "price_in_rp            0\n",
       "city                   0\n",
       "lat                    0\n",
       "long                   0\n",
       "bedrooms              34\n",
       "bathrooms             29\n",
       "land_size_m2           2\n",
       "building_size_m2       2\n",
       "carports               0\n",
       "maid_bedrooms          0\n",
       "maid_bathrooms         0\n",
       "floors                 6\n",
       "building_age        1445\n",
       "year_built          1445\n",
       "garages                0\n",
       "dtype: int64"
      ]
     },
     "execution_count": 27,
     "metadata": {},
     "output_type": "execute_result"
    }
   ],
   "source": [
    "df_selected.isnull().sum()"
   ]
  },
  {
   "cell_type": "code",
   "execution_count": 28,
   "metadata": {},
   "outputs": [],
   "source": [
    "# df_selected['city'] = df_selected['city'].replace(r'.*Jakarta.*', 'Jakarta', regex=True)\n",
    "\n",
    "# print(df_selected['city'].value_counts())\n"
   ]
  },
  {
   "cell_type": "code",
   "execution_count": 29,
   "metadata": {},
   "outputs": [
    {
     "data": {
      "text/html": [
       "<div>\n",
       "<style scoped>\n",
       "    .dataframe tbody tr th:only-of-type {\n",
       "        vertical-align: middle;\n",
       "    }\n",
       "\n",
       "    .dataframe tbody tr th {\n",
       "        vertical-align: top;\n",
       "    }\n",
       "\n",
       "    .dataframe thead th {\n",
       "        text-align: right;\n",
       "    }\n",
       "</style>\n",
       "<table border=\"1\" class=\"dataframe\">\n",
       "  <thead>\n",
       "    <tr style=\"text-align: right;\">\n",
       "      <th></th>\n",
       "      <th>city</th>\n",
       "      <th>jumlah</th>\n",
       "    </tr>\n",
       "  </thead>\n",
       "  <tbody>\n",
       "    <tr>\n",
       "      <th>0</th>\n",
       "      <td>Bogor</td>\n",
       "      <td>881</td>\n",
       "    </tr>\n",
       "    <tr>\n",
       "      <th>1</th>\n",
       "      <td>Tangerang</td>\n",
       "      <td>851</td>\n",
       "    </tr>\n",
       "    <tr>\n",
       "      <th>2</th>\n",
       "      <td>Bekasi</td>\n",
       "      <td>586</td>\n",
       "    </tr>\n",
       "    <tr>\n",
       "      <th>3</th>\n",
       "      <td>Depok</td>\n",
       "      <td>526</td>\n",
       "    </tr>\n",
       "    <tr>\n",
       "      <th>4</th>\n",
       "      <td>Jakarta Selatan</td>\n",
       "      <td>240</td>\n",
       "    </tr>\n",
       "  </tbody>\n",
       "</table>\n",
       "</div>"
      ],
      "text/plain": [
       "               city  jumlah\n",
       "0             Bogor     881\n",
       "1         Tangerang     851\n",
       "2            Bekasi     586\n",
       "3             Depok     526\n",
       "4   Jakarta Selatan     240"
      ]
     },
     "execution_count": 29,
     "metadata": {},
     "output_type": "execute_result"
    }
   ],
   "source": [
    "city = df_selected.groupby(by='city').agg({\n",
    "    'city': 'count',\n",
    "}).rename(columns={\"city\":\"jumlah\"}).sort_values(by='jumlah',ascending= False)\n",
    "city.reset_index(inplace=True)\n",
    "\n",
    "city.head(5)"
   ]
  },
  {
   "cell_type": "code",
   "execution_count": 30,
   "metadata": {},
   "outputs": [],
   "source": [
    "df_selected['total_bedroom'] = df_selected['bedrooms'] +  df_selected['maid_bedrooms']\n",
    "df_selected['total_bathroom'] = df_selected['bathrooms'] +  df_selected['maid_bathrooms']\n",
    "df_selected['total_parking'] = df_selected['carports'] +  df_selected['garages']"
   ]
  },
  {
   "cell_type": "code",
   "execution_count": 31,
   "metadata": {},
   "outputs": [
    {
     "name": "stdout",
     "output_type": "stream",
     "text": [
      "<class 'pandas.core.frame.DataFrame'>\n",
      "RangeIndex: 3553 entries, 0 to 3552\n",
      "Data columns (total 18 columns):\n",
      " #   Column            Non-Null Count  Dtype  \n",
      "---  ------            --------------  -----  \n",
      " 0   price_in_rp       3553 non-null   float64\n",
      " 1   city              3553 non-null   object \n",
      " 2   lat               3553 non-null   float64\n",
      " 3   long              3553 non-null   float64\n",
      " 4   bedrooms          3519 non-null   float64\n",
      " 5   bathrooms         3524 non-null   float64\n",
      " 6   land_size_m2      3551 non-null   float64\n",
      " 7   building_size_m2  3551 non-null   float64\n",
      " 8   carports          3553 non-null   float64\n",
      " 9   maid_bedrooms     3553 non-null   float64\n",
      " 10  maid_bathrooms    3553 non-null   float64\n",
      " 11  floors            3547 non-null   float64\n",
      " 12  building_age      2108 non-null   float64\n",
      " 13  year_built        2108 non-null   float64\n",
      " 14  garages           3553 non-null   float64\n",
      " 15  total_bedroom     3519 non-null   float64\n",
      " 16  total_bathroom    3524 non-null   float64\n",
      " 17  total_parking     3553 non-null   float64\n",
      "dtypes: float64(17), object(1)\n",
      "memory usage: 499.8+ KB\n"
     ]
    }
   ],
   "source": [
    "df_selected.info()"
   ]
  },
  {
   "cell_type": "code",
   "execution_count": 32,
   "metadata": {},
   "outputs": [
    {
     "data": {
      "text/plain": [
       "price_in_rp            0\n",
       "city                   0\n",
       "lat                    0\n",
       "long                   0\n",
       "bedrooms              34\n",
       "bathrooms             29\n",
       "land_size_m2           2\n",
       "building_size_m2       2\n",
       "carports               0\n",
       "maid_bedrooms          0\n",
       "maid_bathrooms         0\n",
       "floors                 6\n",
       "building_age        1445\n",
       "year_built          1445\n",
       "garages                0\n",
       "total_bedroom         34\n",
       "total_bathroom        29\n",
       "total_parking          0\n",
       "dtype: int64"
      ]
     },
     "execution_count": 32,
     "metadata": {},
     "output_type": "execute_result"
    }
   ],
   "source": [
    "df_selected.isnull().sum()"
   ]
  },
  {
   "cell_type": "code",
   "execution_count": 33,
   "metadata": {},
   "outputs": [],
   "source": [
    "df_clean = df_selected.dropna()"
   ]
  },
  {
   "cell_type": "code",
   "execution_count": 34,
   "metadata": {},
   "outputs": [
    {
     "data": {
      "text/plain": [
       "price_in_rp         0\n",
       "city                0\n",
       "lat                 0\n",
       "long                0\n",
       "bedrooms            0\n",
       "bathrooms           0\n",
       "land_size_m2        0\n",
       "building_size_m2    0\n",
       "carports            0\n",
       "maid_bedrooms       0\n",
       "maid_bathrooms      0\n",
       "floors              0\n",
       "building_age        0\n",
       "year_built          0\n",
       "garages             0\n",
       "total_bedroom       0\n",
       "total_bathroom      0\n",
       "total_parking       0\n",
       "dtype: int64"
      ]
     },
     "execution_count": 34,
     "metadata": {},
     "output_type": "execute_result"
    }
   ],
   "source": [
    "df_clean.isnull().sum()"
   ]
  },
  {
   "cell_type": "code",
   "execution_count": 35,
   "metadata": {},
   "outputs": [
    {
     "name": "stdout",
     "output_type": "stream",
     "text": [
      "<class 'pandas.core.frame.DataFrame'>\n",
      "Index: 2081 entries, 0 to 3552\n",
      "Data columns (total 18 columns):\n",
      " #   Column            Non-Null Count  Dtype  \n",
      "---  ------            --------------  -----  \n",
      " 0   price_in_rp       2081 non-null   float64\n",
      " 1   city              2081 non-null   object \n",
      " 2   lat               2081 non-null   float64\n",
      " 3   long              2081 non-null   float64\n",
      " 4   bedrooms          2081 non-null   float64\n",
      " 5   bathrooms         2081 non-null   float64\n",
      " 6   land_size_m2      2081 non-null   float64\n",
      " 7   building_size_m2  2081 non-null   float64\n",
      " 8   carports          2081 non-null   float64\n",
      " 9   maid_bedrooms     2081 non-null   float64\n",
      " 10  maid_bathrooms    2081 non-null   float64\n",
      " 11  floors            2081 non-null   float64\n",
      " 12  building_age      2081 non-null   float64\n",
      " 13  year_built        2081 non-null   float64\n",
      " 14  garages           2081 non-null   float64\n",
      " 15  total_bedroom     2081 non-null   float64\n",
      " 16  total_bathroom    2081 non-null   float64\n",
      " 17  total_parking     2081 non-null   float64\n",
      "dtypes: float64(17), object(1)\n",
      "memory usage: 308.9+ KB\n"
     ]
    }
   ],
   "source": [
    "df_clean.info()"
   ]
  },
  {
   "cell_type": "code",
   "execution_count": 36,
   "metadata": {},
   "outputs": [
    {
     "data": {
      "text/html": [
       "<div>\n",
       "<style scoped>\n",
       "    .dataframe tbody tr th:only-of-type {\n",
       "        vertical-align: middle;\n",
       "    }\n",
       "\n",
       "    .dataframe tbody tr th {\n",
       "        vertical-align: top;\n",
       "    }\n",
       "\n",
       "    .dataframe thead th {\n",
       "        text-align: right;\n",
       "    }\n",
       "</style>\n",
       "<table border=\"1\" class=\"dataframe\">\n",
       "  <thead>\n",
       "    <tr style=\"text-align: right;\">\n",
       "      <th></th>\n",
       "      <th>city</th>\n",
       "      <th>jumlah</th>\n",
       "    </tr>\n",
       "  </thead>\n",
       "  <tbody>\n",
       "    <tr>\n",
       "      <th>0</th>\n",
       "      <td>Bogor</td>\n",
       "      <td>494</td>\n",
       "    </tr>\n",
       "    <tr>\n",
       "      <th>1</th>\n",
       "      <td>Tangerang</td>\n",
       "      <td>475</td>\n",
       "    </tr>\n",
       "    <tr>\n",
       "      <th>2</th>\n",
       "      <td>Bekasi</td>\n",
       "      <td>373</td>\n",
       "    </tr>\n",
       "    <tr>\n",
       "      <th>3</th>\n",
       "      <td>Depok</td>\n",
       "      <td>293</td>\n",
       "    </tr>\n",
       "    <tr>\n",
       "      <th>4</th>\n",
       "      <td>Jakarta Selatan</td>\n",
       "      <td>166</td>\n",
       "    </tr>\n",
       "  </tbody>\n",
       "</table>\n",
       "</div>"
      ],
      "text/plain": [
       "               city  jumlah\n",
       "0             Bogor     494\n",
       "1         Tangerang     475\n",
       "2            Bekasi     373\n",
       "3             Depok     293\n",
       "4   Jakarta Selatan     166"
      ]
     },
     "execution_count": 36,
     "metadata": {},
     "output_type": "execute_result"
    }
   ],
   "source": [
    "city2 = df_clean.groupby(by='city').agg({\n",
    "    'city': 'count',\n",
    "}).rename(columns={\"city\":\"jumlah\"}).sort_values(by='jumlah',ascending= False)\n",
    "city2.reset_index(inplace=True)\n",
    "\n",
    "city2.head(5)"
   ]
  },
  {
   "cell_type": "code",
   "execution_count": 37,
   "metadata": {},
   "outputs": [
    {
     "name": "stdout",
     "output_type": "stream",
     "text": [
      "<class 'pandas.core.frame.DataFrame'>\n",
      "Index: 2081 entries, 0 to 3552\n",
      "Data columns (total 8 columns):\n",
      " #   Column            Non-Null Count  Dtype  \n",
      "---  ------            --------------  -----  \n",
      " 0   price_in_rp       2081 non-null   float64\n",
      " 1   city              2081 non-null   object \n",
      " 2   land_size_m2      2081 non-null   float64\n",
      " 3   building_size_m2  2081 non-null   float64\n",
      " 4   floors            2081 non-null   float64\n",
      " 5   total_bedroom     2081 non-null   float64\n",
      " 6   total_bathroom    2081 non-null   float64\n",
      " 7   total_parking     2081 non-null   float64\n",
      "dtypes: float64(7), object(1)\n",
      "memory usage: 146.3+ KB\n"
     ]
    }
   ],
   "source": [
    "drop_col = [\"lat\", \"long\", \"bedrooms\", \"bathrooms\", \"carports\", \"maid_bedrooms\", \"maid_bathrooms\", \"building_age\", \"year_built\", \"garages\"]\n",
    "df_clean = df_clean.drop(columns=drop_col)\n",
    "df_clean.info()"
   ]
  },
  {
   "cell_type": "markdown",
   "metadata": {},
   "source": [
    "Menampilkan jumlah masing - masing rumah berdasarkan kota"
   ]
  },
  {
   "cell_type": "code",
   "execution_count": 38,
   "metadata": {},
   "outputs": [],
   "source": [
    "# plt.figure(figsize=(10, 6))\n",
    "# plt.bar(city2['city'], city2['jumlah'], color='skyblue')\n",
    "\n",
    "# plt.xlabel('Kota')\n",
    "# plt.ylabel('Jumlah')\n",
    "# plt.title('Persebaran Kota dalam data')\n",
    "# plt.xticks(rotation=45) \n",
    "\n",
    "# plt.show()\n"
   ]
  },
  {
   "cell_type": "code",
   "execution_count": 39,
   "metadata": {},
   "outputs": [
    {
     "data": {
      "text/html": [
       "<div>\n",
       "<style scoped>\n",
       "    .dataframe tbody tr th:only-of-type {\n",
       "        vertical-align: middle;\n",
       "    }\n",
       "\n",
       "    .dataframe tbody tr th {\n",
       "        vertical-align: top;\n",
       "    }\n",
       "\n",
       "    .dataframe thead th {\n",
       "        text-align: right;\n",
       "    }\n",
       "</style>\n",
       "<table border=\"1\" class=\"dataframe\">\n",
       "  <thead>\n",
       "    <tr style=\"text-align: right;\">\n",
       "      <th></th>\n",
       "      <th>total_bathroom</th>\n",
       "      <th>jumlah</th>\n",
       "    </tr>\n",
       "  </thead>\n",
       "  <tbody>\n",
       "    <tr>\n",
       "      <th>0</th>\n",
       "      <td>2.0</td>\n",
       "      <td>538</td>\n",
       "    </tr>\n",
       "    <tr>\n",
       "      <th>1</th>\n",
       "      <td>1.0</td>\n",
       "      <td>443</td>\n",
       "    </tr>\n",
       "    <tr>\n",
       "      <th>2</th>\n",
       "      <td>4.0</td>\n",
       "      <td>406</td>\n",
       "    </tr>\n",
       "    <tr>\n",
       "      <th>3</th>\n",
       "      <td>3.0</td>\n",
       "      <td>353</td>\n",
       "    </tr>\n",
       "    <tr>\n",
       "      <th>4</th>\n",
       "      <td>5.0</td>\n",
       "      <td>218</td>\n",
       "    </tr>\n",
       "  </tbody>\n",
       "</table>\n",
       "</div>"
      ],
      "text/plain": [
       "   total_bathroom  jumlah\n",
       "0             2.0     538\n",
       "1             1.0     443\n",
       "2             4.0     406\n",
       "3             3.0     353\n",
       "4             5.0     218"
      ]
     },
     "execution_count": 39,
     "metadata": {},
     "output_type": "execute_result"
    }
   ],
   "source": [
    "total_bathroom = df_clean.groupby(by='total_bathroom').agg({\n",
    "    'total_bathroom': 'count',\n",
    "}).rename(columns={\"total_bathroom\":\"jumlah\"}).sort_values(by='jumlah',ascending= False)\n",
    "total_bathroom.reset_index(inplace=True)\n",
    "\n",
    "total_bathroom.head(5)"
   ]
  },
  {
   "cell_type": "code",
   "execution_count": 40,
   "metadata": {},
   "outputs": [
    {
     "data": {
      "image/png": "[encoded data removed]",
      "text/plain": [
       "<Figure size 1000x600 with 1 Axes>"
      ]
     },
     "metadata": {},
     "output_type": "display_data"
    }
   ],
   "source": [
    "plt.figure(figsize=(10, 6))\n",
    "plt.bar(total_bathroom['total_bathroom'].head(5), total_bathroom['jumlah'].head(5), color='skyblue')\n",
    "\n",
    "plt.xlabel('Jumlah Kamar Mandi Rumah')\n",
    "plt.ylabel('Jumlah')\n",
    "plt.title('Persebaran Jumlah Kamar Mandi Rumah')\n",
    "plt.xticks(rotation=45) \n",
    "\n",
    "plt.show()\n"
   ]
  },
  {
   "cell_type": "code",
   "execution_count": 41,
   "metadata": {},
   "outputs": [
    {
     "data": {
      "text/html": [
       "<div>\n",
       "<style scoped>\n",
       "    .dataframe tbody tr th:only-of-type {\n",
       "        vertical-align: middle;\n",
       "    }\n",
       "\n",
       "    .dataframe tbody tr th {\n",
       "        vertical-align: top;\n",
       "    }\n",
       "\n",
       "    .dataframe thead th {\n",
       "        text-align: right;\n",
       "    }\n",
       "</style>\n",
       "<table border=\"1\" class=\"dataframe\">\n",
       "  <thead>\n",
       "    <tr style=\"text-align: right;\">\n",
       "      <th></th>\n",
       "      <th>total_parking</th>\n",
       "      <th>jumlah</th>\n",
       "    </tr>\n",
       "  </thead>\n",
       "  <tbody>\n",
       "    <tr>\n",
       "      <th>0</th>\n",
       "      <td>2.0</td>\n",
       "      <td>727</td>\n",
       "    </tr>\n",
       "    <tr>\n",
       "      <th>1</th>\n",
       "      <td>1.0</td>\n",
       "      <td>624</td>\n",
       "    </tr>\n",
       "    <tr>\n",
       "      <th>2</th>\n",
       "      <td>4.0</td>\n",
       "      <td>250</td>\n",
       "    </tr>\n",
       "    <tr>\n",
       "      <th>3</th>\n",
       "      <td>0.0</td>\n",
       "      <td>195</td>\n",
       "    </tr>\n",
       "    <tr>\n",
       "      <th>4</th>\n",
       "      <td>3.0</td>\n",
       "      <td>181</td>\n",
       "    </tr>\n",
       "  </tbody>\n",
       "</table>\n",
       "</div>"
      ],
      "text/plain": [
       "   total_parking  jumlah\n",
       "0            2.0     727\n",
       "1            1.0     624\n",
       "2            4.0     250\n",
       "3            0.0     195\n",
       "4            3.0     181"
      ]
     },
     "execution_count": 41,
     "metadata": {},
     "output_type": "execute_result"
    }
   ],
   "source": [
    "total_parking = df_clean.groupby(by='total_parking').agg({\n",
    "    'total_parking': 'count',\n",
    "}).rename(columns={\"total_parking\":\"jumlah\"}).sort_values(by='jumlah',ascending= False)\n",
    "total_parking.reset_index(inplace=True)\n",
    "\n",
    "total_parking.head(5)"
   ]
  },
  {
   "cell_type": "code",
   "execution_count": 42,
   "metadata": {},
   "outputs": [
    {
     "data": {
      "image/png": "[encoded data removed]",
      "text/plain": [
       "<Figure size 1000x600 with 1 Axes>"
      ]
     },
     "metadata": {},
     "output_type": "display_data"
    }
   ],
   "source": [
    "plt.figure(figsize=(10, 6))\n",
    "plt.bar(total_parking['total_parking'].head(5), total_parking['jumlah'].head(5), color='skyblue')\n",
    "\n",
    "plt.xlabel('Jumlah Tempat Parkir Rumah')\n",
    "plt.ylabel('Jumlah')\n",
    "plt.title('Persebaran Jumlah Tempat Parkir Rumah')\n",
    "plt.xticks(rotation=45) \n",
    "\n",
    "plt.show()\n"
   ]
  },
  {
   "cell_type": "code",
   "execution_count": 43,
   "metadata": {},
   "outputs": [
    {
     "name": "stdout",
     "output_type": "stream",
     "text": [
      "<class 'pandas.core.frame.DataFrame'>\n",
      "Index: 2081 entries, 0 to 3552\n",
      "Data columns (total 8 columns):\n",
      " #   Column            Non-Null Count  Dtype  \n",
      "---  ------            --------------  -----  \n",
      " 0   price_in_rp       2081 non-null   float64\n",
      " 1   city              2081 non-null   object \n",
      " 2   land_size_m2      2081 non-null   float64\n",
      " 3   building_size_m2  2081 non-null   float64\n",
      " 4   floors            2081 non-null   float64\n",
      " 5   total_bedroom     2081 non-null   float64\n",
      " 6   total_bathroom    2081 non-null   float64\n",
      " 7   total_parking     2081 non-null   float64\n",
      "dtypes: float64(7), object(1)\n",
      "memory usage: 146.3+ KB\n"
     ]
    }
   ],
   "source": [
    "df_clean.info()"
   ]
  },
  {
   "cell_type": "code",
   "execution_count": 44,
   "metadata": {},
   "outputs": [
    {
     "data": {
      "image/png": "[encoded data removed]",
      "text/plain": [
       "<Figure size 1500x1000 with 1 Axes>"
      ]
     },
     "metadata": {},
     "output_type": "display_data"
    }
   ],
   "source": [
    "plt.figure(figsize=(15, 10))\n",
    "sns.boxplot(data= df_clean[[\"price_in_rp\", \"land_size_m2\", \"building_size_m2\"]], orient='v')\n",
    "plt.title('Value Distribution', fontsize=16)\n",
    "plt.xlabel('Nilai')\n",
    "plt.ylabel('Fitur')\n",
    "plt.grid(axis='x', linestyle='--', alpha=0.7)\n",
    "plt.show()"
   ]
  },
  {
   "cell_type": "code",
   "execution_count": 45,
   "metadata": {},
   "outputs": [
    {
     "data": {
      "image/png": "[encoded data removed]",
      "text/plain": [
       "<Figure size 1500x1000 with 1 Axes>"
      ]
     },
     "metadata": {},
     "output_type": "display_data"
    }
   ],
   "source": [
    "plt.figure(figsize=(15, 10))\n",
    "sns.boxplot(data= df_clean[[\"floors\", \"total_bedroom\", \"total_bathroom\",\"total_parking\"]], orient='v')\n",
    "plt.title('Value Distribution', fontsize=16)\n",
    "plt.xlabel('Nilai')\n",
    "plt.ylabel('Fitur')\n",
    "plt.grid(axis='x', linestyle='--', alpha=0.7)\n",
    "plt.show()"
   ]
  },
  {
   "cell_type": "code",
   "execution_count": null,
   "metadata": {},
   "outputs": [
    {
     "data": {
      "image/png": "[encoded data removed]",
      "text/plain": [
       "<Figure size 1000x600 with 1 Axes>"
      ]
     },
     "metadata": {},
     "output_type": "display_data"
    }
   ],
   "source": [
    "\n",
    "plt.figure(figsize=(10, 6)) \n",
    "sns.scatterplot(x='building_size_m2', y='price_in_rp', data=df_clean, color='blue', alpha=0.5)\n",
    "\n",
    "plt.title('Hubungan antara Harga dan Luas Bangunan')  \n",
    "plt.xlabel('Luas Bangunan (m2)')  \n",
    "plt.ylabel('Harga')  \n",
    "plt.show()"
   ]
  },
  {
   "cell_type": "code",
   "execution_count": null,
   "metadata": {},
   "outputs": [],
   "source": [
    "df_numeric = df_clean.select_dtypes(include=['float64', 'int64'])\n",
    "\n",
    "z_scores = df_numeric.apply(zscore)\n",
    "\n",
    "threshold = 2.0\n",
    "\n",
    "df_cleaned = df_clean[(z_scores < threshold).all(axis=1)]"
   ]
  },
  {
   "cell_type": "code",
   "execution_count": 48,
   "metadata": {},
   "outputs": [
    {
     "name": "stdout",
     "output_type": "stream",
     "text": [
      "<class 'pandas.core.frame.DataFrame'>\n",
      "Index: 1955 entries, 0 to 3552\n",
      "Data columns (total 8 columns):\n",
      " #   Column            Non-Null Count  Dtype  \n",
      "---  ------            --------------  -----  \n",
      " 0   price_in_rp       1955 non-null   float64\n",
      " 1   city              1955 non-null   object \n",
      " 2   land_size_m2      1955 non-null   float64\n",
      " 3   building_size_m2  1955 non-null   float64\n",
      " 4   floors            1955 non-null   float64\n",
      " 5   total_bedroom     1955 non-null   float64\n",
      " 6   total_bathroom    1955 non-null   float64\n",
      " 7   total_parking     1955 non-null   float64\n",
      "dtypes: float64(7), object(1)\n",
      "memory usage: 137.5+ KB\n"
     ]
    }
   ],
   "source": [
    "df_cleaned.info()"
   ]
  },
  {
   "cell_type": "code",
   "execution_count": 67,
   "metadata": {},
   "outputs": [
    {
     "data": {
      "text/plain": [
       "price_in_rp         0\n",
       "city                0\n",
       "land_size_m2        0\n",
       "building_size_m2    0\n",
       "floors              0\n",
       "total_bedroom       0\n",
       "total_bathroom      0\n",
       "total_parking       0\n",
       "dtype: int64"
      ]
     },
     "execution_count": 67,
     "metadata": {},
     "output_type": "execute_result"
    }
   ],
   "source": [
    "df_cleaned.isnull().sum()"
   ]
  },
  {
   "cell_type": "code",
   "execution_count": 49,
   "metadata": {},
   "outputs": [
    {
     "name": "stderr",
     "output_type": "stream",
     "text": [
      "C:\\Users\\Ilyas\\AppData\\Local\\Temp\\ipykernel_4388\\2185264134.py:1: SettingWithCopyWarning: \n",
      "A value is trying to be set on a copy of a slice from a DataFrame.\n",
      "Try using .loc[row_indexer,col_indexer] = value instead\n",
      "\n",
      "See the caveats in the documentation: https://pandas.pydata.org/pandas-docs/stable/user_guide/indexing.html#returning-a-view-versus-a-copy\n",
      "  df_cleaned['floors'] = df_cleaned['floors'].astype(int)\n",
      "C:\\Users\\Ilyas\\AppData\\Local\\Temp\\ipykernel_4388\\2185264134.py:2: SettingWithCopyWarning: \n",
      "A value is trying to be set on a copy of a slice from a DataFrame.\n",
      "Try using .loc[row_indexer,col_indexer] = value instead\n",
      "\n",
      "See the caveats in the documentation: https://pandas.pydata.org/pandas-docs/stable/user_guide/indexing.html#returning-a-view-versus-a-copy\n",
      "  df_cleaned['total_bedroom'] = df_cleaned['total_bedroom'].astype(int)\n",
      "C:\\Users\\Ilyas\\AppData\\Local\\Temp\\ipykernel_4388\\2185264134.py:3: SettingWithCopyWarning: \n",
      "A value is trying to be set on a copy of a slice from a DataFrame.\n",
      "Try using .loc[row_indexer,col_indexer] = value instead\n",
      "\n",
      "See the caveats in the documentation: https://pandas.pydata.org/pandas-docs/stable/user_guide/indexing.html#returning-a-view-versus-a-copy\n",
      "  df_cleaned['total_bathroom'] = df_cleaned['total_bathroom'].astype(int)\n",
      "C:\\Users\\Ilyas\\AppData\\Local\\Temp\\ipykernel_4388\\2185264134.py:4: SettingWithCopyWarning: \n",
      "A value is trying to be set on a copy of a slice from a DataFrame.\n",
      "Try using .loc[row_indexer,col_indexer] = value instead\n",
      "\n",
      "See the caveats in the documentation: https://pandas.pydata.org/pandas-docs/stable/user_guide/indexing.html#returning-a-view-versus-a-copy\n",
      "  df_cleaned['total_parking'] = df_cleaned['total_parking'].astype(int)\n"
     ]
    }
   ],
   "source": [
    "df_cleaned['floors'] = df_cleaned['floors'].astype(int)\n",
    "df_cleaned['total_bedroom'] = df_cleaned['total_bedroom'].astype(int)\n",
    "df_cleaned['total_bathroom'] = df_cleaned['total_bathroom'].astype(int)\n",
    "df_cleaned['total_parking'] = df_cleaned['total_parking'].astype(int)"
   ]
  },
  {
   "cell_type": "code",
   "execution_count": 50,
   "metadata": {},
   "outputs": [
    {
     "name": "stdout",
     "output_type": "stream",
     "text": [
      "<class 'pandas.core.frame.DataFrame'>\n",
      "Index: 1955 entries, 0 to 3552\n",
      "Data columns (total 8 columns):\n",
      " #   Column            Non-Null Count  Dtype  \n",
      "---  ------            --------------  -----  \n",
      " 0   price_in_rp       1955 non-null   float64\n",
      " 1   city              1955 non-null   object \n",
      " 2   land_size_m2      1955 non-null   float64\n",
      " 3   building_size_m2  1955 non-null   float64\n",
      " 4   floors            1955 non-null   int32  \n",
      " 5   total_bedroom     1955 non-null   int32  \n",
      " 6   total_bathroom    1955 non-null   int32  \n",
      " 7   total_parking     1955 non-null   int32  \n",
      "dtypes: float64(3), int32(4), object(1)\n",
      "memory usage: 106.9+ KB\n"
     ]
    }
   ],
   "source": [
    "df_cleaned.info()"
   ]
  },
  {
   "cell_type": "code",
   "execution_count": 51,
   "metadata": {},
   "outputs": [
    {
     "data": {
      "image/png": "[encoded data removed]",
      "text/plain": [
       "<Figure size 1500x1000 with 1 Axes>"
      ]
     },
     "metadata": {},
     "output_type": "display_data"
    }
   ],
   "source": [
    "plt.figure(figsize=(15, 10))\n",
    "sns.boxplot(data= df_cleaned[[\"price_in_rp\", \"land_size_m2\", \"building_size_m2\"]], orient='v')\n",
    "plt.title('Value Distribution', fontsize=16)\n",
    "plt.xlabel('Nilai')\n",
    "plt.ylabel('Fitur')\n",
    "plt.grid(axis='x', linestyle='--', alpha=0.7)\n",
    "plt.show()"
   ]
  },
  {
   "cell_type": "code",
   "execution_count": 52,
   "metadata": {},
   "outputs": [
    {
     "data": {
      "image/png": "[encoded data removed]",
      "text/plain": [
       "<Figure size 1500x1000 with 1 Axes>"
      ]
     },
     "metadata": {},
     "output_type": "display_data"
    }
   ],
   "source": [
    "plt.figure(figsize=(15, 10))\n",
    "sns.boxplot(data= df_cleaned[[\"floors\", \"total_bedroom\", \"total_bathroom\",\"total_parking\"]], orient='v')\n",
    "plt.title('Value Distribution', fontsize=16)\n",
    "plt.xlabel('Nilai')\n",
    "plt.ylabel('Fitur')\n",
    "plt.grid(axis='x', linestyle='--', alpha=0.7)\n",
    "plt.show()"
   ]
  },
  {
   "cell_type": "code",
   "execution_count": 53,
   "metadata": {},
   "outputs": [
    {
     "data": {
      "text/html": [
       "<div>\n",
       "<style scoped>\n",
       "    .dataframe tbody tr th:only-of-type {\n",
       "        vertical-align: middle;\n",
       "    }\n",
       "\n",
       "    .dataframe tbody tr th {\n",
       "        vertical-align: top;\n",
       "    }\n",
       "\n",
       "    .dataframe thead th {\n",
       "        text-align: right;\n",
       "    }\n",
       "</style>\n",
       "<table border=\"1\" class=\"dataframe\">\n",
       "  <thead>\n",
       "    <tr style=\"text-align: right;\">\n",
       "      <th></th>\n",
       "      <th>city</th>\n",
       "      <th>jumlah</th>\n",
       "    </tr>\n",
       "  </thead>\n",
       "  <tbody>\n",
       "    <tr>\n",
       "      <th>0</th>\n",
       "      <td>Bogor</td>\n",
       "      <td>465</td>\n",
       "    </tr>\n",
       "    <tr>\n",
       "      <th>1</th>\n",
       "      <td>Tangerang</td>\n",
       "      <td>458</td>\n",
       "    </tr>\n",
       "    <tr>\n",
       "      <th>2</th>\n",
       "      <td>Bekasi</td>\n",
       "      <td>371</td>\n",
       "    </tr>\n",
       "    <tr>\n",
       "      <th>3</th>\n",
       "      <td>Depok</td>\n",
       "      <td>292</td>\n",
       "    </tr>\n",
       "    <tr>\n",
       "      <th>4</th>\n",
       "      <td>Jakarta Selatan</td>\n",
       "      <td>125</td>\n",
       "    </tr>\n",
       "  </tbody>\n",
       "</table>\n",
       "</div>"
      ],
      "text/plain": [
       "               city  jumlah\n",
       "0             Bogor     465\n",
       "1         Tangerang     458\n",
       "2            Bekasi     371\n",
       "3             Depok     292\n",
       "4   Jakarta Selatan     125"
      ]
     },
     "execution_count": 53,
     "metadata": {},
     "output_type": "execute_result"
    }
   ],
   "source": [
    "city3 = df_cleaned.groupby(by='city').agg({\n",
    "    'city': 'count',\n",
    "}).rename(columns={\"city\":\"jumlah\"}).sort_values(by='jumlah',ascending= False)\n",
    "city3.reset_index(inplace=True)\n",
    "\n",
    "city3.head(5)"
   ]
  },
  {
   "cell_type": "code",
   "execution_count": 54,
   "metadata": {},
   "outputs": [
    {
     "data": {
      "image/png": "[encoded data removed]",
      "text/plain": [
       "<Figure size 1000x600 with 1 Axes>"
      ]
     },
     "metadata": {},
     "output_type": "display_data"
    }
   ],
   "source": [
    "plt.figure(figsize=(10, 6))\n",
    "plt.bar(city3['city'], city3['jumlah'], color='skyblue')\n",
    "\n",
    "plt.xlabel('Kota')\n",
    "plt.ylabel('Jumlah')\n",
    "plt.title('Persebaran Kota dalam data')\n",
    "plt.xticks(rotation=45) \n",
    "\n",
    "plt.show()"
   ]
  },
  {
   "cell_type": "code",
   "execution_count": 55,
   "metadata": {},
   "outputs": [
    {
     "data": {
      "text/html": [
       "<div>\n",
       "<style scoped>\n",
       "    .dataframe tbody tr th:only-of-type {\n",
       "        vertical-align: middle;\n",
       "    }\n",
       "\n",
       "    .dataframe tbody tr th {\n",
       "        vertical-align: top;\n",
       "    }\n",
       "\n",
       "    .dataframe thead th {\n",
       "        text-align: right;\n",
       "    }\n",
       "</style>\n",
       "<table border=\"1\" class=\"dataframe\">\n",
       "  <thead>\n",
       "    <tr style=\"text-align: right;\">\n",
       "      <th></th>\n",
       "      <th>floors</th>\n",
       "      <th>jumlah</th>\n",
       "    </tr>\n",
       "  </thead>\n",
       "  <tbody>\n",
       "    <tr>\n",
       "      <th>0</th>\n",
       "      <td>2</td>\n",
       "      <td>1141</td>\n",
       "    </tr>\n",
       "    <tr>\n",
       "      <th>1</th>\n",
       "      <td>1</td>\n",
       "      <td>617</td>\n",
       "    </tr>\n",
       "    <tr>\n",
       "      <th>2</th>\n",
       "      <td>3</td>\n",
       "      <td>197</td>\n",
       "    </tr>\n",
       "  </tbody>\n",
       "</table>\n",
       "</div>"
      ],
      "text/plain": [
       "   floors  jumlah\n",
       "0       2    1141\n",
       "1       1     617\n",
       "2       3     197"
      ]
     },
     "execution_count": 55,
     "metadata": {},
     "output_type": "execute_result"
    }
   ],
   "source": [
    "floors = df_cleaned.groupby(by='floors').agg({\n",
    "    'floors': 'count',\n",
    "}).rename(columns={\"floors\":\"jumlah\"}).sort_values(by='jumlah',ascending= False)\n",
    "floors.reset_index(inplace=True)\n",
    "\n",
    "floors.head(5)"
   ]
  },
  {
   "cell_type": "code",
   "execution_count": 56,
   "metadata": {},
   "outputs": [
    {
     "data": {
      "text/html": [
       "<div>\n",
       "<style scoped>\n",
       "    .dataframe tbody tr th:only-of-type {\n",
       "        vertical-align: middle;\n",
       "    }\n",
       "\n",
       "    .dataframe tbody tr th {\n",
       "        vertical-align: top;\n",
       "    }\n",
       "\n",
       "    .dataframe thead th {\n",
       "        text-align: right;\n",
       "    }\n",
       "</style>\n",
       "<table border=\"1\" class=\"dataframe\">\n",
       "  <thead>\n",
       "    <tr style=\"text-align: right;\">\n",
       "      <th></th>\n",
       "      <th>total_bedroom</th>\n",
       "      <th>jumlah</th>\n",
       "    </tr>\n",
       "  </thead>\n",
       "  <tbody>\n",
       "    <tr>\n",
       "      <th>0</th>\n",
       "      <td>3</td>\n",
       "      <td>561</td>\n",
       "    </tr>\n",
       "    <tr>\n",
       "      <th>1</th>\n",
       "      <td>2</td>\n",
       "      <td>534</td>\n",
       "    </tr>\n",
       "    <tr>\n",
       "      <th>2</th>\n",
       "      <td>4</td>\n",
       "      <td>413</td>\n",
       "    </tr>\n",
       "    <tr>\n",
       "      <th>3</th>\n",
       "      <td>5</td>\n",
       "      <td>273</td>\n",
       "    </tr>\n",
       "    <tr>\n",
       "      <th>4</th>\n",
       "      <td>6</td>\n",
       "      <td>112</td>\n",
       "    </tr>\n",
       "  </tbody>\n",
       "</table>\n",
       "</div>"
      ],
      "text/plain": [
       "   total_bedroom  jumlah\n",
       "0              3     561\n",
       "1              2     534\n",
       "2              4     413\n",
       "3              5     273\n",
       "4              6     112"
      ]
     },
     "execution_count": 56,
     "metadata": {},
     "output_type": "execute_result"
    }
   ],
   "source": [
    "total_bedroom = df_cleaned.groupby(by='total_bedroom').agg({\n",
    "    'total_bedroom': 'count',\n",
    "}).rename(columns={\"total_bedroom\":\"jumlah\"}).sort_values(by='jumlah',ascending= False)\n",
    "total_bedroom.reset_index(inplace=True)\n",
    "\n",
    "total_bedroom.head(5)"
   ]
  },
  {
   "cell_type": "code",
   "execution_count": 57,
   "metadata": {},
   "outputs": [
    {
     "data": {
      "image/png": "[encoded data removed]",
      "text/plain": [
       "<Figure size 1000x600 with 1 Axes>"
      ]
     },
     "metadata": {},
     "output_type": "display_data"
    }
   ],
   "source": [
    "plt.figure(figsize=(10, 6))\n",
    "plt.bar(total_bedroom['total_bedroom'].head(5), total_bedroom['jumlah'].head(5), color='skyblue')\n",
    "\n",
    "plt.xlabel('Jumlah Kamar Tidur Rumah')\n",
    "plt.ylabel('Jumlah')\n",
    "plt.title('Persebaran Jumlah Kamar Tidur Rumah')\n",
    "plt.xticks(rotation=45) \n",
    "\n",
    "plt.show()\n"
   ]
  },
  {
   "cell_type": "markdown",
   "metadata": {},
   "source": [
    "# *Model Building*"
   ]
  },
  {
   "cell_type": "code",
   "execution_count": 58,
   "metadata": {},
   "outputs": [],
   "source": [
    "x = df_cleaned.drop(columns='price_in_rp')\n",
    "y = df_cleaned['price_in_rp']\n",
    "\n",
    "x = pd.get_dummies(x, columns=['city'], drop_first=True)"
   ]
  },
  {
   "cell_type": "code",
   "execution_count": 59,
   "metadata": {},
   "outputs": [],
   "source": [
    "scaler = StandardScaler()\n",
    "x_scaled = scaler.fit_transform(x)"
   ]
  },
  {
   "cell_type": "code",
   "execution_count": 60,
   "metadata": {},
   "outputs": [],
   "source": [
    "x_train, x_test, y_train, y_test = train_test_split(x_scaled, y, test_size=0.2, random_state=42)"
   ]
  },
  {
   "cell_type": "code",
   "execution_count": 61,
   "metadata": {},
   "outputs": [
    {
     "data": {
      "text/html": [
       "<style>#sk-container-id-1 {\n",
       "  /* Definition of color scheme common for light and dark mode */\n",
       "  --sklearn-color-text: black;\n",
       "  --sklearn-color-line: gray;\n",
       "  /* Definition of color scheme for unfitted estimators */\n",
       "  --sklearn-color-unfitted-level-0: #fff5e6;\n",
       "  --sklearn-color-unfitted-level-1: #f6e4d2;\n",
       "  --sklearn-color-unfitted-level-2: #ffe0b3;\n",
       "  --sklearn-color-unfitted-level-3: chocolate;\n",
       "  /* Definition of color scheme for fitted estimators */\n",
       "  --sklearn-color-fitted-level-0: #f0f8ff;\n",
       "  --sklearn-color-fitted-level-1: #d4ebff;\n",
       "  --sklearn-color-fitted-level-2: #b3dbfd;\n",
       "  --sklearn-color-fitted-level-3: cornflowerblue;\n",
       "\n",
       "  /* Specific color for light theme */\n",
       "  --sklearn-color-text-on-default-background: var(--sg-text-color, var(--theme-code-foreground, var(--jp-content-font-color1, black)));\n",
       "  --sklearn-color-background: var(--sg-background-color, var(--theme-background, var(--jp-layout-color0, white)));\n",
       "  --sklearn-color-border-box: var(--sg-text-color, var(--theme-code-foreground, var(--jp-content-font-color1, black)));\n",
       "  --sklearn-color-icon: #696969;\n",
       "\n",
       "  @media (prefers-color-scheme: dark) {\n",
       "    /* Redefinition of color scheme for dark theme */\n",
       "    --sklearn-color-text-on-default-background: var(--sg-text-color, var(--theme-code-foreground, var(--jp-content-font-color1, white)));\n",
       "    --sklearn-color-background: var(--sg-background-color, var(--theme-background, var(--jp-layout-color0, #111)));\n",
       "    --sklearn-color-border-box: var(--sg-text-color, var(--theme-code-foreground, var(--jp-content-font-color1, white)));\n",
       "    --sklearn-color-icon: #878787;\n",
       "  }\n",
       "}\n",
       "\n",
       "#sk-container-id-1 {\n",
       "  color: var(--sklearn-color-text);\n",
       "}\n",
       "\n",
       "#sk-container-id-1 pre {\n",
       "  padding: 0;\n",
       "}\n",
       "\n",
       "#sk-container-id-1 input.sk-hidden--visually {\n",
       "  border: 0;\n",
       "  clip: rect(1px 1px 1px 1px);\n",
       "  clip: rect(1px, 1px, 1px, 1px);\n",
       "  height: 1px;\n",
       "  margin: -1px;\n",
       "  overflow: hidden;\n",
       "  padding: 0;\n",
       "  position: absolute;\n",
       "  width: 1px;\n",
       "}\n",
       "\n",
       "#sk-container-id-1 div.sk-dashed-wrapped {\n",
       "  border: 1px dashed var(--sklearn-color-line);\n",
       "  margin: 0 0.4em 0.5em 0.4em;\n",
       "  box-sizing: border-box;\n",
       "  padding-bottom: 0.4em;\n",
       "  background-color: var(--sklearn-color-background);\n",
       "}\n",
       "\n",
       "#sk-container-id-1 div.sk-container {\n",
       "  /* jupyter's `normalize.less` sets `[hidden] { display: none; }`\n",
       "     but bootstrap.min.css set `[hidden] { display: none !important; }`\n",
       "     so we also need the `!important` here to be able to override the\n",
       "     default hidden behavior on the sphinx rendered scikit-learn.org.\n",
       "     See: https://github.com/scikit-learn/scikit-learn/issues/21755 */\n",
       "  display: inline-block !important;\n",
       "  position: relative;\n",
       "}\n",
       "\n",
       "#sk-container-id-1 div.sk-text-repr-fallback {\n",
       "  display: none;\n",
       "}\n",
       "\n",
       "div.sk-parallel-item,\n",
       "div.sk-serial,\n",
       "div.sk-item {\n",
       "  /* draw centered vertical line to link estimators */\n",
       "  background-image: linear-gradient(var(--sklearn-color-text-on-default-background), var(--sklearn-color-text-on-default-background));\n",
       "  background-size: 2px 100%;\n",
       "  background-repeat: no-repeat;\n",
       "  background-position: center center;\n",
       "}\n",
       "\n",
       "/* Parallel-specific style estimator block */\n",
       "\n",
       "#sk-container-id-1 div.sk-parallel-item::after {\n",
       "  content: \"\";\n",
       "  width: 100%;\n",
       "  border-bottom: 2px solid var(--sklearn-color-text-on-default-background);\n",
       "  flex-grow: 1;\n",
       "}\n",
       "\n",
       "#sk-container-id-1 div.sk-parallel {\n",
       "  display: flex;\n",
       "  align-items: stretch;\n",
       "  justify-content: center;\n",
       "  background-color: var(--sklearn-color-background);\n",
       "  position: relative;\n",
       "}\n",
       "\n",
       "#sk-container-id-1 div.sk-parallel-item {\n",
       "  display: flex;\n",
       "  flex-direction: column;\n",
       "}\n",
       "\n",
       "#sk-container-id-1 div.sk-parallel-item:first-child::after {\n",
       "  align-self: flex-end;\n",
       "  width: 50%;\n",
       "}\n",
       "\n",
       "#sk-container-id-1 div.sk-parallel-item:last-child::after {\n",
       "  align-self: flex-start;\n",
       "  width: 50%;\n",
       "}\n",
       "\n",
       "#sk-container-id-1 div.sk-parallel-item:only-child::after {\n",
       "  width: 0;\n",
       "}\n",
       "\n",
       "/* Serial-specific style estimator block */\n",
       "\n",
       "#sk-container-id-1 div.sk-serial {\n",
       "  display: flex;\n",
       "  flex-direction: column;\n",
       "  align-items: center;\n",
       "  background-color: var(--sklearn-color-background);\n",
       "  padding-right: 1em;\n",
       "  padding-left: 1em;\n",
       "}\n",
       "\n",
       "\n",
       "/* Toggleable style: style used for estimator/Pipeline/ColumnTransformer box that is\n",
       "clickable and can be expanded/collapsed.\n",
       "- Pipeline and ColumnTransformer use this feature and define the default style\n",
       "- Estimators will overwrite some part of the style using the `sk-estimator` class\n",
       "*/\n",
       "\n",
       "/* Pipeline and ColumnTransformer style (default) */\n",
       "\n",
       "#sk-container-id-1 div.sk-toggleable {\n",
       "  /* Default theme specific background. It is overwritten whether we have a\n",
       "  specific estimator or a Pipeline/ColumnTransformer */\n",
       "  background-color: var(--sklearn-color-background);\n",
       "}\n",
       "\n",
       "/* Toggleable label */\n",
       "#sk-container-id-1 label.sk-toggleable__label {\n",
       "  cursor: pointer;\n",
       "  display: block;\n",
       "  width: 100%;\n",
       "  margin-bottom: 0;\n",
       "  padding: 0.5em;\n",
       "  box-sizing: border-box;\n",
       "  text-align: center;\n",
       "}\n",
       "\n",
       "#sk-container-id-1 label.sk-toggleable__label-arrow:before {\n",
       "  /* Arrow on the left of the label */\n",
       "  content: \"▸\";\n",
       "  float: left;\n",
       "  margin-right: 0.25em;\n",
       "  color: var(--sklearn-color-icon);\n",
       "}\n",
       "\n",
       "#sk-container-id-1 label.sk-toggleable__label-arrow:hover:before {\n",
       "  color: var(--sklearn-color-text);\n",
       "}\n",
       "\n",
       "/* Toggleable content - dropdown */\n",
       "\n",
       "#sk-container-id-1 div.sk-toggleable__content {\n",
       "  max-height: 0;\n",
       "  max-width: 0;\n",
       "  overflow: hidden;\n",
       "  text-align: left;\n",
       "  /* unfitted */\n",
       "  background-color: var(--sklearn-color-unfitted-level-0);\n",
       "}\n",
       "\n",
       "#sk-container-id-1 div.sk-toggleable__content.fitted {\n",
       "  /* fitted */\n",
       "  background-color: var(--sklearn-color-fitted-level-0);\n",
       "}\n",
       "\n",
       "#sk-container-id-1 div.sk-toggleable__content pre {\n",
       "  margin: 0.2em;\n",
       "  border-radius: 0.25em;\n",
       "  color: var(--sklearn-color-text);\n",
       "  /* unfitted */\n",
       "  background-color: var(--sklearn-color-unfitted-level-0);\n",
       "}\n",
       "\n",
       "#sk-container-id-1 div.sk-toggleable__content.fitted pre {\n",
       "  /* unfitted */\n",
       "  background-color: var(--sklearn-color-fitted-level-0);\n",
       "}\n",
       "\n",
       "#sk-container-id-1 input.sk-toggleable__control:checked~div.sk-toggleable__content {\n",
       "  /* Expand drop-down */\n",
       "  max-height: 200px;\n",
       "  max-width: 100%;\n",
       "  overflow: auto;\n",
       "}\n",
       "\n",
       "#sk-container-id-1 input.sk-toggleable__control:checked~label.sk-toggleable__label-arrow:before {\n",
       "  content: \"▾\";\n",
       "}\n",
       "\n",
       "/* Pipeline/ColumnTransformer-specific style */\n",
       "\n",
       "#sk-container-id-1 div.sk-label input.sk-toggleable__control:checked~label.sk-toggleable__label {\n",
       "  color: var(--sklearn-color-text);\n",
       "  background-color: var(--sklearn-color-unfitted-level-2);\n",
       "}\n",
       "\n",
       "#sk-container-id-1 div.sk-label.fitted input.sk-toggleable__control:checked~label.sk-toggleable__label {\n",
       "  background-color: var(--sklearn-color-fitted-level-2);\n",
       "}\n",
       "\n",
       "/* Estimator-specific style */\n",
       "\n",
       "/* Colorize estimator box */\n",
       "#sk-container-id-1 div.sk-estimator input.sk-toggleable__control:checked~label.sk-toggleable__label {\n",
       "  /* unfitted */\n",
       "  background-color: var(--sklearn-color-unfitted-level-2);\n",
       "}\n",
       "\n",
       "#sk-container-id-1 div.sk-estimator.fitted input.sk-toggleable__control:checked~label.sk-toggleable__label {\n",
       "  /* fitted */\n",
       "  background-color: var(--sklearn-color-fitted-level-2);\n",
       "}\n",
       "\n",
       "#sk-container-id-1 div.sk-label label.sk-toggleable__label,\n",
       "#sk-container-id-1 div.sk-label label {\n",
       "  /* The background is the default theme color */\n",
       "  color: var(--sklearn-color-text-on-default-background);\n",
       "}\n",
       "\n",
       "/* On hover, darken the color of the background */\n",
       "#sk-container-id-1 div.sk-label:hover label.sk-toggleable__label {\n",
       "  color: var(--sklearn-color-text);\n",
       "  background-color: var(--sklearn-color-unfitted-level-2);\n",
       "}\n",
       "\n",
       "/* Label box, darken color on hover, fitted */\n",
       "#sk-container-id-1 div.sk-label.fitted:hover label.sk-toggleable__label.fitted {\n",
       "  color: var(--sklearn-color-text);\n",
       "  background-color: var(--sklearn-color-fitted-level-2);\n",
       "}\n",
       "\n",
       "/* Estimator label */\n",
       "\n",
       "#sk-container-id-1 div.sk-label label {\n",
       "  font-family: monospace;\n",
       "  font-weight: bold;\n",
       "  display: inline-block;\n",
       "  line-height: 1.2em;\n",
       "}\n",
       "\n",
       "#sk-container-id-1 div.sk-label-container {\n",
       "  text-align: center;\n",
       "}\n",
       "\n",
       "/* Estimator-specific */\n",
       "#sk-container-id-1 div.sk-estimator {\n",
       "  font-family: monospace;\n",
       "  border: 1px dotted var(--sklearn-color-border-box);\n",
       "  border-radius: 0.25em;\n",
       "  box-sizing: border-box;\n",
       "  margin-bottom: 0.5em;\n",
       "  /* unfitted */\n",
       "  background-color: var(--sklearn-color-unfitted-level-0);\n",
       "}\n",
       "\n",
       "#sk-container-id-1 div.sk-estimator.fitted {\n",
       "  /* fitted */\n",
       "  background-color: var(--sklearn-color-fitted-level-0);\n",
       "}\n",
       "\n",
       "/* on hover */\n",
       "#sk-container-id-1 div.sk-estimator:hover {\n",
       "  /* unfitted */\n",
       "  background-color: var(--sklearn-color-unfitted-level-2);\n",
       "}\n",
       "\n",
       "#sk-container-id-1 div.sk-estimator.fitted:hover {\n",
       "  /* fitted */\n",
       "  background-color: var(--sklearn-color-fitted-level-2);\n",
       "}\n",
       "\n",
       "/* Specification for estimator info (e.g. \"i\" and \"?\") */\n",
       "\n",
       "/* Common style for \"i\" and \"?\" */\n",
       "\n",
       ".sk-estimator-doc-link,\n",
       "a:link.sk-estimator-doc-link,\n",
       "a:visited.sk-estimator-doc-link {\n",
       "  float: right;\n",
       "  font-size: smaller;\n",
       "  line-height: 1em;\n",
       "  font-family: monospace;\n",
       "  background-color: var(--sklearn-color-background);\n",
       "  border-radius: 1em;\n",
       "  height: 1em;\n",
       "  width: 1em;\n",
       "  text-decoration: none !important;\n",
       "  margin-left: 1ex;\n",
       "  /* unfitted */\n",
       "  border: var(--sklearn-color-unfitted-level-1) 1pt solid;\n",
       "  color: var(--sklearn-color-unfitted-level-1);\n",
       "}\n",
       "\n",
       ".sk-estimator-doc-link.fitted,\n",
       "a:link.sk-estimator-doc-link.fitted,\n",
       "a:visited.sk-estimator-doc-link.fitted {\n",
       "  /* fitted */\n",
       "  border: var(--sklearn-color-fitted-level-1) 1pt solid;\n",
       "  color: var(--sklearn-color-fitted-level-1);\n",
       "}\n",
       "\n",
       "/* On hover */\n",
       "div.sk-estimator:hover .sk-estimator-doc-link:hover,\n",
       ".sk-estimator-doc-link:hover,\n",
       "div.sk-label-container:hover .sk-estimator-doc-link:hover,\n",
       ".sk-estimator-doc-link:hover {\n",
       "  /* unfitted */\n",
       "  background-color: var(--sklearn-color-unfitted-level-3);\n",
       "  color: var(--sklearn-color-background);\n",
       "  text-decoration: none;\n",
       "}\n",
       "\n",
       "div.sk-estimator.fitted:hover .sk-estimator-doc-link.fitted:hover,\n",
       ".sk-estimator-doc-link.fitted:hover,\n",
       "div.sk-label-container:hover .sk-estimator-doc-link.fitted:hover,\n",
       ".sk-estimator-doc-link.fitted:hover {\n",
       "  /* fitted */\n",
       "  background-color: var(--sklearn-color-fitted-level-3);\n",
       "  color: var(--sklearn-color-background);\n",
       "  text-decoration: none;\n",
       "}\n",
       "\n",
       "/* Span, style for the box shown on hovering the info icon */\n",
       ".sk-estimator-doc-link span {\n",
       "  display: none;\n",
       "  z-index: 9999;\n",
       "  position: relative;\n",
       "  font-weight: normal;\n",
       "  right: .2ex;\n",
       "  padding: .5ex;\n",
       "  margin: .5ex;\n",
       "  width: min-content;\n",
       "  min-width: 20ex;\n",
       "  max-width: 50ex;\n",
       "  color: var(--sklearn-color-text);\n",
       "  box-shadow: 2pt 2pt 4pt #999;\n",
       "  /* unfitted */\n",
       "  background: var(--sklearn-color-unfitted-level-0);\n",
       "  border: .5pt solid var(--sklearn-color-unfitted-level-3);\n",
       "}\n",
       "\n",
       ".sk-estimator-doc-link.fitted span {\n",
       "  /* fitted */\n",
       "  background: var(--sklearn-color-fitted-level-0);\n",
       "  border: var(--sklearn-color-fitted-level-3);\n",
       "}\n",
       "\n",
       ".sk-estimator-doc-link:hover span {\n",
       "  display: block;\n",
       "}\n",
       "\n",
       "/* \"?\"-specific style due to the `<a>` HTML tag */\n",
       "\n",
       "#sk-container-id-1 a.estimator_doc_link {\n",
       "  float: right;\n",
       "  font-size: 1rem;\n",
       "  line-height: 1em;\n",
       "  font-family: monospace;\n",
       "  background-color: var(--sklearn-color-background);\n",
       "  border-radius: 1rem;\n",
       "  height: 1rem;\n",
       "  width: 1rem;\n",
       "  text-decoration: none;\n",
       "  /* unfitted */\n",
       "  color: var(--sklearn-color-unfitted-level-1);\n",
       "  border: var(--sklearn-color-unfitted-level-1) 1pt solid;\n",
       "}\n",
       "\n",
       "#sk-container-id-1 a.estimator_doc_link.fitted {\n",
       "  /* fitted */\n",
       "  border: var(--sklearn-color-fitted-level-1) 1pt solid;\n",
       "  color: var(--sklearn-color-fitted-level-1);\n",
       "}\n",
       "\n",
       "/* On hover */\n",
       "#sk-container-id-1 a.estimator_doc_link:hover {\n",
       "  /* unfitted */\n",
       "  background-color: var(--sklearn-color-unfitted-level-3);\n",
       "  color: var(--sklearn-color-background);\n",
       "  text-decoration: none;\n",
       "}\n",
       "\n",
       "#sk-container-id-1 a.estimator_doc_link.fitted:hover {\n",
       "  /* fitted */\n",
       "  background-color: var(--sklearn-color-fitted-level-3);\n",
       "}\n",
       "</style><div id=\"sk-container-id-1\" class=\"sk-top-container\"><div class=\"sk-text-repr-fallback\"><pre>LinearRegression()</pre><b>In a Jupyter environment, please rerun this cell to show the HTML representation or trust the notebook. <br />On GitHub, the HTML representation is unable to render, please try loading this page with nbviewer.org.</b></div><div class=\"sk-container\" hidden><div class=\"sk-item\"><div class=\"sk-estimator fitted sk-toggleable\"><input class=\"sk-toggleable__control sk-hidden--visually\" id=\"sk-estimator-id-1\" type=\"checkbox\" checked><label for=\"sk-estimator-id-1\" class=\"sk-toggleable__label fitted sk-toggleable__label-arrow fitted\">&nbsp;&nbsp;LinearRegression<a class=\"sk-estimator-doc-link fitted\" rel=\"noreferrer\" target=\"_blank\" href=\"https://scikit-learn.org/1.4/modules/generated/sklearn.linear_model.LinearRegression.html\">?<span>Documentation for LinearRegression</span></a><span class=\"sk-estimator-doc-link fitted\">i<span>Fitted</span></span></label><div class=\"sk-toggleable__content fitted\"><pre>LinearRegression()</pre></div> </div></div></div></div>"
      ],
      "text/plain": [
       "LinearRegression()"
      ]
     },
     "execution_count": 61,
     "metadata": {},
     "output_type": "execute_result"
    }
   ],
   "source": [
    "model = LinearRegression()\n",
    "model.fit(x_train, y_train)"
   ]
  },
  {
   "cell_type": "code",
   "execution_count": null,
   "metadata": {},
   "outputs": [
    {
     "name": "stdout",
     "output_type": "stream",
     "text": [
      "Mean Squared Error (MSE): 2.2737954126804001e+18\n",
      "Mean Absolute Error (MAE): 829618369.5558214\n",
      "R-squared: 0.7620146272500192\n"
     ]
    }
   ],
   "source": [
    "y_pred = model.predict(x_test)\n",
    "\n",
    "\n",
    "mse = mean_squared_error(y_test, y_pred)\n",
    "mae = mean_absolute_error(y_test, y_pred)\n",
    "r2 = r2_score(y_test, y_pred)\n",
    "\n",
    "print(f\"Mean Squared Error (MSE): {mse}\")\n",
    "print(f\"Mean Absolute Error (MAE): {mae}\")\n",
    "print(f\"R-squared: {r2}\")"
   ]
  },
  {
   "cell_type": "code",
   "execution_count": null,
   "metadata": {},
   "outputs": [
    {
     "data": {
      "image/png": "[encoded data removed]",
      "text/plain": [
       "<Figure size 800x600 with 1 Axes>"
      ]
     },
     "metadata": {},
     "output_type": "display_data"
    }
   ],
   "source": [
    "y_pred = model.predict(x_test)\n",
    "\n",
    "plt.figure(figsize=(8, 6))\n",
    "plt.scatter(y_test, y_pred, color='blue', alpha=0.5)\n",
    "plt.plot([min(y_test), max(y_test)], [min(y_test), max(y_test)], color='red', linestyle='--')\n",
    "plt.xlabel(\"Actual Prices\")\n",
    "plt.ylabel(\"Predicted Prices\")\n",
    "plt.title(\"Actual vs Predicted Prices\")\n",
    "plt.show()"
   ]
  },
  {
   "cell_type": "markdown",
   "metadata": {},
   "source": [
    "# *Percobaan Prediksi* #"
   ]
  },
  {
   "cell_type": "code",
   "execution_count": null,
   "metadata": {},
   "outputs": [
    {
     "data": {
      "text/plain": [
       "['scaler.pkl']"
      ]
     },
     "execution_count": 64,
     "metadata": {},
     "output_type": "execute_result"
    }
   ],
   "source": [
    "joblib.dump(model, 'model_rumah.pkl')\n",
    "\n",
    "joblib.dump(scaler, 'scaler.pkl')\n"
   ]
  },
  {
   "cell_type": "code",
   "execution_count": null,
   "metadata": {},
   "outputs": [
    {
     "name": "stdout",
     "output_type": "stream",
     "text": [
      "Prediksi Harga Properti: Rp 481,720,929.53\n"
     ]
    }
   ],
   "source": [
    "\n",
    "def predict_price_manual(input_data):\n",
    "\n",
    "    input_df = pd.DataFrame([input_data], columns=x.columns)\n",
    "\n",
    "\n",
    "    input_scaled = scaler.transform(input_df)\n",
    "\n",
    "\n",
    "    predicted_price = model.predict(input_scaled)\n",
    "    return predicted_price[0]\n",
    "\n",
    "\n",
    "input_data = {\n",
    "    'land_size_m2': 100,             # Luas Tanah\n",
    "    'building_size_m2': 70,          # Luas Bangunan\n",
    "    'floors': 2 ,                     # Jumlah Lantai\n",
    "    'total_parking': 1,              # Jumlah Parkir\n",
    "    'total_bedroom': 3,              # Jumlah Kamar Tidur\n",
    "    'total_bathroom': 2,             # Jumlah Kamar Mandi\n",
    "    'city_ Bogor': True,            # Kota Bogor\n",
    "    'city_ Depok': False,             # Kota Depok\n",
    "    'city_ Jakarta Barat': False,    # Kota Jakarta Barat\n",
    "    'city_ Jakarta Pusat': False,    # Kota Jakarta Pusat\n",
    "    'city_ Jakarta Selatan': False,  # Kota Jakarta Selatan\n",
    "    'city_ Jakarta Timur': False,    # Kota Jakarta Timur\n",
    "    'city_ Jakarta Utara': False,    # Kota Jakarta Utara\n",
    "    'city_ Tangerang': False         # Kota Tangerang\n",
    "}\n",
    "\n",
    "\n",
    "for col in x.columns:\n",
    "    if col not in input_data:\n",
    "        input_data[col] = 0\n",
    "\n",
    "predicted_price = predict_price_manual(input_data)\n",
    "print(f\"Prediksi Harga Properti: Rp {predicted_price:,.2f}\")\n"
   ]
  }
 ],
 "metadata": {
  "kernelspec": {
   "display_name": "Python 3",
   "language": "python",
   "name": "python3"
  },
  "language_info": {
   "codemirror_mode": {
    "name": "ipython",
    "version": 3
   },
   "file_extension": ".py",
   "mimetype": "text/x-python",
   "name": "python",
   "nbconvert_exporter": "python",
   "pygments_lexer": "ipython3",
   "version": "3.11.9"
  }
 },
 "nbformat": 4,
 "nbformat_minor": 2
}
